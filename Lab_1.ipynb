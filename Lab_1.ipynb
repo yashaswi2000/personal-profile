{
  "nbformat": 4,
  "nbformat_minor": 0,
  "metadata": {
    "colab": {
      "name": "Lab_1.ipynb",
      "provenance": [],
      "authorship_tag": "ABX9TyNFp6LTJ3h+eszNmdXwpJKt",
      "include_colab_link": true
    },
    "kernelspec": {
      "name": "python3",
      "display_name": "Python 3"
    },
    "accelerator": "GPU"
  },
  "cells": [
    {
      "cell_type": "markdown",
      "metadata": {
        "id": "view-in-github",
        "colab_type": "text"
      },
      "source": [
        "<a href=\"https://colab.research.google.com/github/yashaswi2000/personal-profile/blob/master/Lab_1.ipynb\" target=\"_parent\"><img src=\"https://colab.research.google.com/assets/colab-badge.svg\" alt=\"Open In Colab\"/></a>"
      ]
    },
    {
      "cell_type": "code",
      "metadata": {
        "id": "sFqXz3vPZoNL",
        "colab_type": "code",
        "colab": {
          "base_uri": "https://localhost:8080/",
          "height": 121
        },
        "outputId": "0b4b40cf-c8a5-4672-a40b-aa724f3174e5"
      },
      "source": [
        "from google.colab import drive\n",
        "drive.mount('/gdrive')"
      ],
      "execution_count": 8,
      "outputs": [
        {
          "output_type": "stream",
          "text": [
            "Go to this URL in a browser: https://accounts.google.com/o/oauth2/auth?client_id=947318989803-6bn6qk8qdgf4n4g3pfee6491hc0brc4i.apps.googleusercontent.com&redirect_uri=urn%3aietf%3awg%3aoauth%3a2.0%3aoob&response_type=code&scope=email%20https%3a%2f%2fwww.googleapis.com%2fauth%2fdocs.test%20https%3a%2f%2fwww.googleapis.com%2fauth%2fdrive%20https%3a%2f%2fwww.googleapis.com%2fauth%2fdrive.photos.readonly%20https%3a%2f%2fwww.googleapis.com%2fauth%2fpeopleapi.readonly\n",
            "\n",
            "Enter your authorization code:\n",
            "··········\n",
            "Mounted at /gdrive\n"
          ],
          "name": "stdout"
        }
      ]
    },
    {
      "cell_type": "code",
      "metadata": {
        "id": "yrYCVTO8ZoMH",
        "colab_type": "code",
        "colab": {
          "base_uri": "https://localhost:8080/",
          "height": 34
        },
        "outputId": "f3594f16-02d1-49ca-d9d8-afa92f5b1a0c"
      },
      "source": [
        "with open('/gdrive/My Drive/foo.txt', 'w') as f:\n",
        "  f.write('Hello Google Drive!')\n",
        "!cat '/gdrive/My Drive/foo.txt'"
      ],
      "execution_count": 9,
      "outputs": [
        {
          "output_type": "stream",
          "text": [
            "Hello Google Drive!"
          ],
          "name": "stdout"
        }
      ]
    },
    {
      "cell_type": "code",
      "metadata": {
        "id": "wlifsLE3Z4jq",
        "colab_type": "code",
        "colab": {
          "base_uri": "https://localhost:8080/",
          "height": 84
        },
        "outputId": "8bcb42ed-c443-4960-d1f7-3cd88f8f6dd2"
      },
      "source": [
        "!unzip amazon-fine-food-reviews.zip -d datasets"
      ],
      "execution_count": 16,
      "outputs": [
        {
          "output_type": "stream",
          "text": [
            "Archive:  amazon-fine-food-reviews.zip\n",
            "  inflating: datasets/Reviews.csv    \n",
            "  inflating: datasets/database.sqlite  \n",
            "  inflating: datasets/hashes.txt     \n"
          ],
          "name": "stdout"
        }
      ]
    },
    {
      "cell_type": "code",
      "metadata": {
        "id": "p1PaEI46NFpy",
        "colab_type": "code",
        "colab": {}
      },
      "source": [
        "import os \n",
        "os.environ[\"CUDA_VISIBLE_DEVICES\"]=\"0\""
      ],
      "execution_count": 0,
      "outputs": []
    },
    {
      "cell_type": "code",
      "metadata": {
        "id": "HhqAAczoNsvK",
        "colab_type": "code",
        "colab": {}
      },
      "source": [
        "%matplotlib inline\n",
        "import numpy as np\n",
        "import pandas as pd\n",
        "from sklearn.metrics import accuracy_score\n",
        "from IPython.display import HTML\n",
        "import matplotlib.pyplot as plt\n",
        "from sklearn import model_selection\n",
        "import pickle\n",
        "import sqlite3\n",
        "import nltk\n",
        "from nltk.corpus import stopwords\n",
        "import string\n",
        "from sklearn.feature_extraction.text import CountVectorizer\n",
        "from sklearn import metrics\n",
        "from sklearn.model_selection import train_test_split\n",
        "from nltk.stem.porter import PorterStemmer\n",
        "from nltk.corpus import stopwords\n",
        "import sqlite3"
      ],
      "execution_count": 0,
      "outputs": []
    },
    {
      "cell_type": "code",
      "metadata": {
        "id": "08YLjrzbOfzp",
        "colab_type": "code",
        "colab": {}
      },
      "source": [
        "# connecting to the dataset server to download the amazon fine foods dataset. Do not make any changes to the code below\n",
        "con = sqlite3.connect('datasets/database.sqlite')\n",
        "messages = pd.read_sql_query(\"\"\"\n",
        "SELECT Score, Summary\n",
        "FROM Reviews\n",
        "\"\"\", con)"
      ],
      "execution_count": 0,
      "outputs": []
    },
    {
      "cell_type": "code",
      "metadata": {
        "id": "ouu1ZjmSb5qH",
        "colab_type": "code",
        "colab": {
          "base_uri": "https://localhost:8080/",
          "height": 252
        },
        "outputId": "d8bd38ae-585e-41b3-c63d-9e7eee6f539b"
      },
      "source": [
        "print(messages)"
      ],
      "execution_count": 22,
      "outputs": [
        {
          "output_type": "stream",
          "text": [
            "        Score                             Summary\n",
            "0           5               Good Quality Dog Food\n",
            "1           1                   Not as Advertised\n",
            "2           4               \"Delight\" says it all\n",
            "3           2                      Cough Medicine\n",
            "4           5                         Great taffy\n",
            "...       ...                                 ...\n",
            "568449      5                 Will not do without\n",
            "568450      2                        disappointed\n",
            "568451      5            Perfect for our maltipoo\n",
            "568452      5  Favorite Training and reward treat\n",
            "568453      5                         Great Honey\n",
            "\n",
            "[568454 rows x 2 columns]\n"
          ],
          "name": "stdout"
        }
      ]
    },
    {
      "cell_type": "code",
      "metadata": {
        "id": "3oWZh5jdb3E_",
        "colab_type": "code",
        "colab": {
          "base_uri": "https://localhost:8080/",
          "height": 218
        },
        "outputId": "a7e94b59-b7c8-4ade-cfdc-d1026f8880a7"
      },
      "source": [
        "# the parition function applied threshold on the rating to label a review as 'positive' or 'negative'.\n",
        "def partition(x):\n",
        "   if x > 3 :\n",
        "     return 1\n",
        "   else :\n",
        "     return 0\n",
        "\n",
        "Score = messages['Score']\n",
        "Score = Score.map(partition)\n",
        "Summary = messages['Summary']"
      ],
      "execution_count": 23,
      "outputs": [
        {
          "output_type": "stream",
          "text": [
            "0         1\n",
            "1         0\n",
            "2         1\n",
            "3         0\n",
            "4         1\n",
            "         ..\n",
            "568449    1\n",
            "568450    0\n",
            "568451    1\n",
            "568452    1\n",
            "568453    1\n",
            "Name: Score, Length: 568454, dtype: int64\n"
          ],
          "name": "stdout"
        }
      ]
    },
    {
      "cell_type": "code",
      "metadata": {
        "id": "sYfmDMARdHDc",
        "colab_type": "code",
        "colab": {
          "base_uri": "https://localhost:8080/",
          "height": 118
        },
        "outputId": "553540b9-6bd7-41a4-ea3d-0b588f973137"
      },
      "source": [
        "# call the function to create the train and test splits according to the ratio 75:25\n",
        "# uncomment and complete the line below\n",
        "\n",
        "train_X, test_X, train_y, test_y = train_test_split(Summary, Score, test_size=0.25)\n",
        "\n",
        "# print an example of the dataset after the labeling process\n",
        "print(messages.head(2))\n",
        "tmp = messages\n",
        "tmp['Score'] = tmp['Score'].map(partition)\n",
        "print(tmp.head(2))"
      ],
      "execution_count": 24,
      "outputs": [
        {
          "output_type": "stream",
          "text": [
            "   Score                Summary\n",
            "0      5  Good Quality Dog Food\n",
            "1      1      Not as Advertised\n",
            "   Score                Summary\n",
            "0      1  Good Quality Dog Food\n",
            "1      0      Not as Advertised\n"
          ],
          "name": "stdout"
        }
      ]
    }
  ]
}